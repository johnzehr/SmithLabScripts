{
 "cells": [
  {
   "cell_type": "code",
   "execution_count": 1,
   "metadata": {},
   "outputs": [
    {
     "ename": "ModuleNotFoundError",
     "evalue": "No module named 'dill'",
     "output_type": "error",
     "traceback": [
      "\u001b[0;31m---------------------------------------------------------------------------\u001b[0m",
      "\u001b[0;31mModuleNotFoundError\u001b[0m                       Traceback (most recent call last)",
      "\u001b[0;32m<ipython-input-1-b1626d7e3d38>\u001b[0m in \u001b[0;36m<module>\u001b[0;34m\u001b[0m\n\u001b[1;32m      3\u001b[0m \u001b[0;32mimport\u001b[0m \u001b[0mmatplotlib\u001b[0m\u001b[0;34m.\u001b[0m\u001b[0mpyplot\u001b[0m \u001b[0;32mas\u001b[0m \u001b[0mplt\u001b[0m\u001b[0;34m\u001b[0m\u001b[0;34m\u001b[0m\u001b[0m\n\u001b[1;32m      4\u001b[0m \u001b[0;32mimport\u001b[0m \u001b[0mscipy\u001b[0m\u001b[0;34m.\u001b[0m\u001b[0msignal\u001b[0m\u001b[0;34m\u001b[0m\u001b[0;34m\u001b[0m\u001b[0m\n\u001b[0;32m----> 5\u001b[0;31m \u001b[0;32mimport\u001b[0m \u001b[0mdill\u001b[0m \u001b[0;32mas\u001b[0m \u001b[0mpickle\u001b[0m\u001b[0;34m\u001b[0m\u001b[0;34m\u001b[0m\u001b[0m\n\u001b[0m\u001b[1;32m      6\u001b[0m \u001b[0;31m#c/(2*bandwidth) = range resolution\u001b[0m\u001b[0;34m\u001b[0m\u001b[0;34m\u001b[0m\u001b[0;34m\u001b[0m\u001b[0m\n",
      "\u001b[0;31mModuleNotFoundError\u001b[0m: No module named 'dill'"
     ]
    }
   ],
   "source": [
    "import numpy as np\n",
    "import datetime\n",
    "import matplotlib.pyplot as plt\n",
    "import scipy.signal\n",
    "import dill as pickle\n",
    "#c/(2*bandwidth) = range resolution"
   ]
  },
  {
   "cell_type": "markdown",
   "metadata": {},
   "source": [
    "## Generate IQ data"
   ]
  },
  {
   "cell_type": "code",
   "execution_count": null,
   "metadata": {},
   "outputs": [],
   "source": [
    "now = datetime.datetime.now()\n",
    "\n",
    "filepath = './downloads/waves'\n",
    "filename = 'test_chirp'+now.strftime('%Y-%m-%d')+'.wv'\n",
    "num_samp = 6000\n",
    "\n",
    "'''num_samples = 20000\n",
    "clock = 10   # MHz\n",
    "delta_t = 1/(clock*1E6)\n",
    "T = num_samples * delta_t\n",
    "t = np.arange(0, T, delta_t)\n",
    "f = .5E6\n",
    "period = 1/f'''\n",
    "\n",
    "clock = 600E6\n",
    "#delta_t = 1/(clock*1E6)\n",
    "delta_t = 1/(clock)\n",
    "duration = (num_samp*1.0)/clock\n",
    "T = num_samp * delta_t\n",
    "t = np.arange(0, T, (delta_t))\n",
    "\n",
    "#i_data = np.random.normal(0, .5, size=num_samples)\n",
    "#q_data = np.random.normal(0, .5, size=num_samples)\n",
    "#i_data = np.sin(np.linspace(0, 2*np.pi, num_samples))\n",
    "#i_data = np.sin(n)\n",
    "#q_data = np.cos(np.linspace(0, 2*np.pi, num_samples))\n",
    "fstart= -1*100e6* np.pi*2\n",
    "fstop = -1*0e6 *2*np.pi\n",
    "#fstart= 0\n",
    "#fstop = -1*(150e6)*np.pi*2\n",
    "\n",
    "chirp_rate = (fstop-fstart)/T\n",
    "\n",
    "fsig=2*np.pi*(((chirp_rate/2)*(t**2))+(fstart*t))\n",
    "\n",
    "\n",
    "fsweep= np.linspace(fstart, fstop, num_samp)\n",
    "signal = np.exp((1j*fsig))\n",
    "#ignal = np.exp(1j*2*np.pi*((chirp_rate*.5*np.power(t,2))+(fstart*t)))\n",
    "#i_data = np.imag(signal)\n",
    "#q_data = np.real(signal)\n",
    "timeVect = np.linspace(0,duration,num_samp)\n",
    "beta = fstart\n",
    "alpha = (fstop-fstart)/(2*duration)\n",
    "i_data = np.imag(np.exp(1j*beta*timeVect+1j*alpha*np.power(timeVect,2)))\n",
    "q_data = np.real(np.exp(1j*beta*timeVect+1j*alpha*np.power(timeVect,2)))\n",
    "complexData = i_data+q_data\n",
    "\n",
    "exportDict = dict({\"clock\": clock, \"numberSamples\" : num_samp, \"fstart\" : (fstart*-1), \"fstop\" : (-1*fstop), \"originalPulse\" : complexData})\n",
    "file = open(\"exportData\"+now.strftime('%Y-%m-%d-%H-%M-%S')+\".obj\",\"wb\")\n",
    "pickle.dump(exportDict,file)\n",
    "file.close()\n",
    "\n",
    "data = np.stack((i_data, q_data), axis=1)\n",
    "data = np.clip(data, -1, 1)\n",
    "plt.subplot(1,1,1)\n",
    "\n",
    "%matplotlib qt\n",
    "plt.plot(i_data)\n",
    "plt.plot(q_data)\n",
    "# plt.axis([0,100,-1,1])\n",
    "'''plt.subplot(1,2,2)\n",
    "plt.plot(i_data)\n",
    "plt.plot(q_data)\n",
    "plt.axis([100,200,-1,1])'''"
   ]
  },
  {
   "cell_type": "code",
   "execution_count": 26,
   "metadata": {},
   "outputs": [
    {
     "data": {
      "text/plain": [
       "[<matplotlib.lines.Line2D at 0x208838d3190>]"
      ]
     },
     "execution_count": 26,
     "metadata": {},
     "output_type": "execute_result"
    }
   ],
   "source": [
    "spectrum = np.fft.fftshift(np.fft.fft(signal))\n",
    "\n",
    "delta_t = t[1] - t[0]\n",
    "omega_list = np.linspace(-clock/2, clock/2, spectrum.size)\n",
    "plt.plot(omega_list, np.abs(spectrum))"
   ]
  },
  {
   "cell_type": "code",
   "execution_count": null,
   "metadata": {},
   "outputs": [],
   "source": []
  },
  {
   "cell_type": "markdown",
   "metadata": {},
   "source": [
    "## Generate wv file"
   ]
  },
  {
   "cell_type": "markdown",
   "metadata": {},
   "source": [
    "#### Write tags"
   ]
  },
  {
   "cell_type": "code",
   "execution_count": 27,
   "metadata": {},
   "outputs": [],
   "source": [
    "with open(filepath+filename, 'w') as file:\n",
    "    file.write('{TYPE: SMU-WV,0}')\n",
    "    file.write('{CLOCK: '+str(clock)+'}')\n",
    "    file.write('{SAMPLES: %d}' % num_samp)\n",
    "    file.write('{LEVEL OFFS: %f,%f}' % (-1.0*20.0*np.log10(1.0/np.sqrt(2.0)), 0.0))\n",
    "    file.write('{WAVEFORM-%d:#' % (num_samp * 4 + 1))"
   ]
  },
  {
   "cell_type": "markdown",
   "metadata": {},
   "source": [
    "#### Write binary IQ data"
   ]
  },
  {
   "cell_type": "code",
   "execution_count": 28,
   "metadata": {},
   "outputs": [],
   "source": [
    "with open(filepath+filename, 'ab') as file:\n",
    "    for i in range(data.shape[0]):\n",
    "        i_usint = np.floor((data[i,0] * 32767.0) + 0.5).astype(np.ushort)\n",
    "        q_usint = np.floor((data[i,1] * 32767.0) + 0.5).astype(np.ushort)\n",
    "        # file.write(bytearray(i_usint))\n",
    "        # file.write(bytearray(q_usint))\n",
    "        i_usint.tofile(file)\n",
    "        q_usint.tofile(file)\n",
    "\n",
    "with open(filepath+filename, 'a') as file:\n",
    "    file.write('}')"
   ]
  },
  {
   "cell_type": "code",
   "execution_count": 154,
   "metadata": {},
   "outputs": [],
   "source": [
    "now = datetime.datetime.now()\n",
    "\n",
    "filepath = './downloads/waves'\n",
    "filename = 'examplesignal'+now.strftime('%Y-%m-%d')+'.wv'\n",
    "\n",
    "\n",
    "num_samples = 50000\n",
    "clock = 500   # MHz\n",
    "delta_t = 1/(clock*1E6)\n",
    "T = num_samples * delta_t\n",
    "t = np.arange(0, T, delta_t)\n",
    "f = .5E6\n",
    "period = 1/f\n",
    "\n",
    "#i_data = np.random.normal(0, .5, size=num_samples)\n",
    "#q_data = np.random.normal(0, .5, size=num_samples)\n",
    "#i_data = np.sin(np.linspace(0, 2*np.pi, num_samples))\n",
    "#i_data = np.sin(n)\n",
    "#q_data = np.cos(np.linspace(0, 2*np.pi, num_samples))\n",
    "fstart=100e6\n",
    "fstop = 250e6\n",
    "\n",
    "i_data = np.sin(2*np.pi*((1000*t)+f)*t)\n",
    "q_data = np.cos(2*np.pi*((1000*t)+f)*t)\n",
    "#i_data = scipy.signal.square(2*np.pi*f*t)\n",
    "#q_data = scipy.signal.square(2*np.pi*f*t+np.pi/2)\n",
    "# i_data = 0.5 * np.ones((num_samples, 1))\n",
    "# q_data = -0.5 * np.ones((num_samples, 1))\n",
    "\n",
    "data = np.stack((i_data, q_data), axis=1)\n",
    "data = np.clip(data, -1, 1)\n",
    "\n",
    "plt.plot(t, i_data)\n",
    "plt.plot(t, q_data)\n",
    "plt.show()\n",
    "\n",
    "with open(filepath+filename, 'w') as file:\n",
    "    file.write('{TYPE: SMU-WV,0}')\n",
    "    file.write('{CLOCK: '+str(clock)+'e6}')\n",
    "    file.write('{SAMPLES: %d}' % num_samples)\n",
    "    file.write('{LEVEL OFFS: %f,%f}' % (-1.0*20.0*np.log10(1.0/np.sqrt(2.0)), 0.0))\n",
    "    file.write('{WAVEFORM-%d:#' % (num_samples * 4 + 1))\n",
    "    \n",
    "\n",
    "with open(filepath+filename, 'ab') as file:\n",
    "    for i in range(data.shape[0]):\n",
    "        i_usint = np.floor((data[i,0] * 32767.0) + 0.5).astype(np.ushort)\n",
    "        q_usint = np.floor((data[i,1] * 32767.0) + 0.5).astype(np.ushort)\n",
    "        # file.write(bytearray(i_usint))\n",
    "        # file.write(bytearray(q_usint))\n",
    "        i_usint.tofile(file)\n",
    "        q_usint.tofile(file)\n",
    "\n",
    "with open(filepath+filename, 'a') as file:\n",
    "    file.write('}')"
   ]
  },
  {
   "cell_type": "code",
   "execution_count": null,
   "metadata": {},
   "outputs": [],
   "source": []
  },
  {
   "cell_type": "code",
   "execution_count": null,
   "metadata": {},
   "outputs": [],
   "source": []
  },
  {
   "cell_type": "code",
   "execution_count": null,
   "metadata": {},
   "outputs": [],
   "source": []
  },
  {
   "cell_type": "code",
   "execution_count": null,
   "metadata": {},
   "outputs": [],
   "source": []
  },
  {
   "cell_type": "code",
   "execution_count": null,
   "metadata": {},
   "outputs": [],
   "source": []
  }
 ],
 "metadata": {
  "kernelspec": {
   "display_name": "Python 3",
   "language": "python",
   "name": "python3"
  },
  "language_info": {
   "codemirror_mode": {
    "name": "ipython",
    "version": 3
   },
   "file_extension": ".py",
   "mimetype": "text/x-python",
   "name": "python",
   "nbconvert_exporter": "python",
   "pygments_lexer": "ipython3",
   "version": "3.8.3"
  }
 },
 "nbformat": 4,
 "nbformat_minor": 5
}
