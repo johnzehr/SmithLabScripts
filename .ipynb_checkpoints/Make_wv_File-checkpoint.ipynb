{
 "cells": [
  {
   "cell_type": "code",
   "execution_count": 1,
   "metadata": {},
   "outputs": [],
   "source": [
    "import numpy as np\n",
    "import datetime\n",
    "import matplotlib.pyplot as plt\n",
    "import scipy.signal"
   ]
  },
  {
   "cell_type": "markdown",
   "metadata": {},
   "source": [
    "## Generate IQ data"
   ]
  },
  {
   "cell_type": "code",
   "execution_count": 3,
   "metadata": {},
   "outputs": [
    {
     "data": {
      "text/plain": [
       "'plt.subplot(1,2,2)\\nplt.plot(i_data)\\nplt.plot(q_data)\\nplt.axis([100,200,-1,1])'"
      ]
     },
     "execution_count": 3,
     "metadata": {},
     "output_type": "execute_result"
    }
   ],
   "source": [
    "now = datetime.datetime.now()\n",
    "\n",
    "filepath = './downloads/waves'\n",
    "filename = '200e6'+now.strftime('%Y-%m-%d')+'.wv'\n",
    "num_samp = 20000\n",
    "\n",
    "'''num_samples = 20000\n",
    "clock = 10   # MHz\n",
    "delta_t = 1/(clock*1E6)\n",
    "T = num_samples * delta_t\n",
    "t = np.arange(0, T, delta_t)\n",
    "f = .5E6\n",
    "period = 1/f'''\n",
    "\n",
    "clock = 500e6\n",
    "delta_t = 1/(clock)\n",
    "T = num_samp * delta_t\n",
    "t = np.arange(0, T, delta_t)\n",
    "\n",
    "#i_data = np.random.normal(0, .5, size=num_samples)\n",
    "#q_data = np.random.normal(0, .5, size=num_samples)\n",
    "#i_data = np.sin(np.linspace(0, 2*np.pi, num_samples))\n",
    "#i_data = np.sin(n)\n",
    "#q_data = np.cos(np.linspace(0, 2*np.pi, num_samples))\n",
    "fstart=0\n",
    "fstop = 200e6\n",
    "\n",
    "\n",
    "chirp_rate = (fstop-fstart)/T\n",
    "\n",
    "fsig=2*np.pi*(((chirp_rate/2)*(t**2))+(fstart*t))\n",
    "\n",
    "\n",
    "fsweep= np.linspace(fstart, fstop, num_samp)\n",
    "signal = np.exp((1j*fsig))\n",
    "#signal = np.exp(1j*2*np.pi*((chirp_rate*.5*np.power(t,2))+(fstart*t)))\n",
    "i_data = np.imag(signal)\n",
    "q_data = np.real(signal)\n",
    "#i_data = scipy.signal.square(2*np.pi*f*t)\n",
    "#q_data = scipy.signal.square(2*np.pi*f*t+np.pi/2)\n",
    "# i_data = 0.5 * np.ones((num_samples, 1))\n",
    "# q_data = -0.5 * np.ones((num_samples, 1))\n",
    "\n",
    "data = np.stack((i_data, q_data), axis=1)\n",
    "data = np.clip(data, -1, 1)\n",
    "plt.subplot(1,1,1)\n",
    "\n",
    "%matplotlib qt\n",
    "plt.plot(i_data)\n",
    "plt.plot(q_data)\n",
    "# plt.axis([0,100,-1,1])\n",
    "'''plt.subplot(1,2,2)\n",
    "plt.plot(i_data)\n",
    "plt.plot(q_data)\n",
    "plt.axis([100,200,-1,1])'''"
   ]
  },
  {
   "cell_type": "code",
   "execution_count": 4,
   "metadata": {},
   "outputs": [
    {
     "data": {
      "text/plain": [
       "[<matplotlib.lines.Line2D at 0x23faf44e040>]"
      ]
     },
     "execution_count": 4,
     "metadata": {},
     "output_type": "execute_result"
    }
   ],
   "source": [
    "spectrum = np.fft.fftshift(np.fft.fft(signal))\n",
    "\n",
    "delta_t = t[1] - t[0]\n",
    "omega_list = np.linspace(-clock/2, clock/2, spectrum.size)\n",
    "plt.plot(omega_list, np.abs(spectrum))"
   ]
  },
  {
   "cell_type": "code",
   "execution_count": null,
   "metadata": {},
   "outputs": [],
   "source": [
    "print(period)"
   ]
  },
  {
   "cell_type": "markdown",
   "metadata": {},
   "source": [
    "## Generate wv file"
   ]
  },
  {
   "cell_type": "markdown",
   "metadata": {},
   "source": [
    "#### Write tags"
   ]
  },
  {
   "cell_type": "code",
   "execution_count": 6,
   "metadata": {},
   "outputs": [],
   "source": [
    "with open(filepath+filename, 'w') as file:\n",
    "    file.write('{TYPE: SMU-WV,0}')\n",
    "    file.write('{CLOCK: '+str(clock)+'}')\n",
    "    file.write('{SAMPLES: %d}' % num_samp)\n",
    "    file.write('{LEVEL OFFS: %f,%f}' % (-1.0*20.0*np.log10(1.0/np.sqrt(2.0)), 0.0))\n",
    "    file.write('{WAVEFORM-%d:#' % (num_samp * 4 + 1))"
   ]
  },
  {
   "cell_type": "markdown",
   "metadata": {},
   "source": [
    "#### Write binary IQ data"
   ]
  },
  {
   "cell_type": "code",
   "execution_count": 7,
   "metadata": {},
   "outputs": [],
   "source": [
    "with open(filepath+filename, 'ab') as file:\n",
    "    for i in range(data.shape[0]):\n",
    "        i_usint = np.floor((data[i,0] * 32767.0) + 0.5).astype(np.ushort)\n",
    "        q_usint = np.floor((data[i,1] * 32767.0) + 0.5).astype(np.ushort)\n",
    "        # file.write(bytearray(i_usint))\n",
    "        # file.write(bytearray(q_usint))\n",
    "        i_usint.tofile(file)\n",
    "        q_usint.tofile(file)\n",
    "\n",
    "with open(filepath+filename, 'a') as file:\n",
    "    file.write('}')"
   ]
  },
  {
   "cell_type": "code",
   "execution_count": 8,
   "metadata": {},
   "outputs": [],
   "source": [
    "now = datetime.datetime.now()\n",
    "\n",
    "filepath = './downloads/waves'\n",
    "filename = 'examplesignal'+now.strftime('%Y-%m-%d')+'.wv'\n",
    "\n",
    "\n",
    "num_samples = 20000\n",
    "clock = 10   # MHz\n",
    "delta_t = 1/(clock*1E6)\n",
    "T = num_samples * delta_t\n",
    "t = np.arange(0, T, delta_t)\n",
    "f = .5E6\n",
    "period = 1/f\n",
    "\n",
    "#i_data = np.random.normal(0, .5, size=num_samples)\n",
    "#q_data = np.random.normal(0, .5, size=num_samples)\n",
    "#i_data = np.sin(np.linspace(0, 2*np.pi, num_samples))\n",
    "#i_data = np.sin(n)\n",
    "#q_data = np.cos(np.linspace(0, 2*np.pi, num_samples))\n",
    "fstart=9e9\n",
    "fstop = 10e9\n",
    "\n",
    "i_data = np.sin(2*np.pi*((1000*t)+f)*t)\n",
    "q_data = np.cos(2*np.pi*((1000*t)+f)*t)\n",
    "#i_data = scipy.signal.square(2*np.pi*f*t)\n",
    "#q_data = scipy.signal.square(2*np.pi*f*t+np.pi/2)\n",
    "# i_data = 0.5 * np.ones((num_samples, 1))\n",
    "# q_data = -0.5 * np.ones((num_samples, 1))\n",
    "\n",
    "data = np.stack((i_data, q_data), axis=1)\n",
    "data = np.clip(data, -1, 1)\n",
    "\n",
    "plt.plot(t, i_data)\n",
    "plt.plot(t, q_data)\n",
    "plt.show()\n",
    "\n",
    "with open(filepath+filename, 'w') as file:\n",
    "    file.write('{TYPE: SMU-WV,0}')\n",
    "    file.write('{CLOCK: '+str(clock)+'e6}')\n",
    "    file.write('{SAMPLES: %d}' % num_samples)\n",
    "    file.write('{LEVEL OFFS: %f,%f}' % (-1.0*20.0*np.log10(1.0/np.sqrt(2.0)), 0.0))\n",
    "    file.write('{WAVEFORM-%d:#' % (num_samples * 4 + 1))\n",
    "    \n",
    "\n",
    "with open(filepath+filename, 'ab') as file:\n",
    "    for i in range(data.shape[0]):\n",
    "        i_usint = np.floor((data[i,0] * 32767.0) + 0.5).astype(np.ushort)\n",
    "        q_usint = np.floor((data[i,1] * 32767.0) + 0.5).astype(np.ushort)\n",
    "        # file.write(bytearray(i_usint))\n",
    "        # file.write(bytearray(q_usint))\n",
    "        i_usint.tofile(file)\n",
    "        q_usint.tofile(file)\n",
    "\n",
    "with open(filepath+filename, 'a') as file:\n",
    "    file.write('}')"
   ]
  },
  {
   "cell_type": "code",
   "execution_count": null,
   "metadata": {},
   "outputs": [],
   "source": []
  },
  {
   "cell_type": "code",
   "execution_count": null,
   "metadata": {},
   "outputs": [],
   "source": []
  }
 ],
 "metadata": {
  "kernelspec": {
   "display_name": "Python 3",
   "language": "python",
   "name": "python3"
  },
  "language_info": {
   "codemirror_mode": {
    "name": "ipython",
    "version": 3
   },
   "file_extension": ".py",
   "mimetype": "text/x-python",
   "name": "python",
   "nbconvert_exporter": "python",
   "pygments_lexer": "ipython3",
   "version": "3.8.3"
  }
 },
 "nbformat": 4,
 "nbformat_minor": 5
}
